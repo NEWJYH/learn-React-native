{
 "cells": [
  {
   "cell_type": "markdown",
   "id": "45f06d26",
   "metadata": {},
   "source": [
    "# snack?  : https://snack.expo.dev\n",
    "\n",
    "- 브라우저에서 React 어플리케이션을 만들 수 있게 해주는 온라인 코드에디터\n",
    "\n",
    "- 브라우저를 통해 바로 react 어플리케이션을 만들수 있음"
   ]
  },
  {
   "cell_type": "code",
   "execution_count": null,
   "id": "f2509b73",
   "metadata": {},
   "outputs": [],
   "source": []
  }
 ],
 "metadata": {
  "kernelspec": {
   "display_name": "Python 3 (ipykernel)",
   "language": "python",
   "name": "python3"
  },
  "language_info": {
   "codemirror_mode": {
    "name": "ipython",
    "version": 3
   },
   "file_extension": ".py",
   "mimetype": "text/x-python",
   "name": "python",
   "nbconvert_exporter": "python",
   "pygments_lexer": "ipython3",
   "version": "3.9.13"
  }
 },
 "nbformat": 4,
 "nbformat_minor": 5
}

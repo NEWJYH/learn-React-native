{
 "cells": [
  {
   "cell_type": "markdown",
   "id": "88c9358d",
   "metadata": {},
   "source": [
    "# 01 react native는 웹사이트가 아니다!"
   ]
  },
  {
   "cell_type": "markdown",
   "id": "0cd88063",
   "metadata": {},
   "source": [
    "- html이 아니기 때문에 div는 쓸수 없음\n",
    "- 웹사이트가 아니라는것을 명심해야함\n",
    "\n",
    "## 01 View \n",
    "\n",
    "- View는 컨테이너임\n",
    "- 만들 모든 것은 View로 만들게 될 것\n",
    "- div 대신 View를 사용할것임"
   ]
  },
  {
   "cell_type": "markdown",
   "id": "4350015a",
   "metadata": {},
   "source": [
    "---"
   ]
  },
  {
   "cell_type": "markdown",
   "id": "45665b86",
   "metadata": {},
   "source": [
    "# 02 react native에 있는 모든 text는 textcomponent에 들어가야 함\n",
    "\n",
    "- p, span, div를 사용하면 신경쓰지 않을 것"
   ]
  },
  {
   "cell_type": "markdown",
   "id": "05cac6c3",
   "metadata": {},
   "source": [
    "---"
   ]
  },
  {
   "cell_type": "markdown",
   "id": "260ecd79",
   "metadata": {},
   "source": [
    "# 03 View에 style이 있음 이것은 웹의 react.js에서 할수 있는 것과 정말 비슷함"
   ]
  },
  {
   "cell_type": "markdown",
   "id": "1233d2f4",
   "metadata": {},
   "source": [
    "- 차이점은 일부 style을 사용할 수 없다는 것\n",
    "\n",
    "- StyleSheet.create({})을 사용하면 css 자동완성을 지원함\n",
    "- StyleSheet.create({})을 사용하지 않아도 자동완성 빼고는 모두 정상"
   ]
  },
  {
   "cell_type": "markdown",
   "id": "9caacfed",
   "metadata": {},
   "source": [
    "# 04 StatusBar는 서드파티\n",
    "\n",
    "- status-bar component는 시계, 배터리, Wi-Fi를 의미함\n",
    "- 이 컴포넌트는 상태바와 소통할수 있는 방법일 뿐"
   ]
  }
 ],
 "metadata": {
  "kernelspec": {
   "display_name": "Python 3 (ipykernel)",
   "language": "python",
   "name": "python3"
  },
  "language_info": {
   "codemirror_mode": {
    "name": "ipython",
    "version": 3
   },
   "file_extension": ".py",
   "mimetype": "text/x-python",
   "name": "python",
   "nbconvert_exporter": "python",
   "pygments_lexer": "ipython3",
   "version": "3.9.13"
  }
 },
 "nbformat": 4,
 "nbformat_minor": 5
}

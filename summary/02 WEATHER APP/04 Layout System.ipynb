{
 "cells": [
  {
   "cell_type": "markdown",
   "id": "2a34f35f",
   "metadata": {},
   "source": [
    "https://reactnative.dev/docs/flexbox"
   ]
  },
  {
   "cell_type": "markdown",
   "id": "b6b08580",
   "metadata": {},
   "source": [
    " - 기본적으로 모든 View는 Flex Container\n",
    " \n",
    " - flex Direction 기본값은 모바일에서 Column임!\n",
    " \n",
    " - web과 다름\n",
    " \n",
    " - overflow가 있다고 해서 스크롤 할수 있다는 의미는 아님"
   ]
  },
  {
   "cell_type": "markdown",
   "id": "aaad78e7",
   "metadata": {},
   "source": [
    "- 너비와 높이에 기반해서 레이아웃을 만들지 않을 꺼임\n",
    "- 반응형 디자인에 대해서 생각해야함\n",
    "\n",
    "- 아이콘이나 아바타가 있다면 사용할수도 있음"
   ]
  },
  {
   "cell_type": "markdown",
   "id": "a70e5d56",
   "metadata": {},
   "source": [
    "```App.js\n",
    "import { View } from \"react-native\";\n",
    "\n",
    "export default function App() {\n",
    "  return (\n",
    "    <View style={{ flex: 1, flexDirection: \"row\" }}>\n",
    "      <View style={{ flex: 1, backgroundColor: \"tomato\" }}></View>\n",
    "      <View style={{ flex: 1, backgroundColor: \"teal\" }}></View>\n",
    "      <View style={{ flex: 1, backgroundColor: \"orange\" }}></View>\n",
    "    </View>\n",
    "  );\n",
    "}\n",
    "\n",
    "```"
   ]
  }
 ],
 "metadata": {
  "kernelspec": {
   "display_name": "Python 3 (ipykernel)",
   "language": "python",
   "name": "python3"
  },
  "language_info": {
   "codemirror_mode": {
    "name": "ipython",
    "version": 3
   },
   "file_extension": ".py",
   "mimetype": "text/x-python",
   "name": "python",
   "nbconvert_exporter": "python",
   "pygments_lexer": "ipython3",
   "version": "3.9.13"
  }
 },
 "nbformat": 4,
 "nbformat_minor": 5
}

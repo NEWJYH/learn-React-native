{
 "cells": [
  {
   "cell_type": "markdown",
   "id": "f7ae9f29",
   "metadata": {},
   "source": [
    "https://reactnative.dev/docs/components-and-apis"
   ]
  },
  {
   "cell_type": "markdown",
   "id": "88861f17",
   "metadata": {},
   "source": [
    "사용가능한 패키지를 줄이고 안정적이고 빠른 개발에 집중"
   ]
  },
  {
   "cell_type": "markdown",
   "id": "7eb223b2",
   "metadata": {},
   "source": [
    "React Native Doc\n",
    "https://reactnative.dev/docs/0.60/components-and-apis\n",
    "\n",
    "React Native Directory\n",
    "https://reactnative.directory/\n",
    "\n",
    "Expo Doc\n",
    "https://docs.expo.dev/versions/latest/"
   ]
  },
  {
   "cell_type": "markdown",
   "id": "acf3a8a5",
   "metadata": {},
   "source": [
    "# Component는 화면에 렌더링할 목록\n",
    "\n",
    "# API 자바스크립트 코드\n",
    "\n",
    "- 자바스크립트 코드가 운영체제와 소통하는 것"
   ]
  },
  {
   "cell_type": "markdown",
   "id": "cefe3b12",
   "metadata": {},
   "source": [
    "- react native팀은 React Native 서비스 제공 부분을 축소했음\n",
    "\n",
    "- Expo는 우리에게 필요한 Packages를 제공"
   ]
  }
 ],
 "metadata": {
  "kernelspec": {
   "display_name": "Python 3 (ipykernel)",
   "language": "python",
   "name": "python3"
  },
  "language_info": {
   "codemirror_mode": {
    "name": "ipython",
    "version": 3
   },
   "file_extension": ".py",
   "mimetype": "text/x-python",
   "name": "python",
   "nbconvert_exporter": "python",
   "pygments_lexer": "ipython3",
   "version": "3.9.13"
  }
 },
 "nbformat": 4,
 "nbformat_minor": 5
}

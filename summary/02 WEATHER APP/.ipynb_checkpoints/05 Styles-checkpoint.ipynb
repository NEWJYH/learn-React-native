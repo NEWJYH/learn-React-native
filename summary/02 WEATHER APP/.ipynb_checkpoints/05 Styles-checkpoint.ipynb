{
 "cells": [
  {
   "cell_type": "markdown",
   "id": "0a2742cc",
   "metadata": {},
   "source": [
    "###### app.js"
   ]
  },
  {
   "cell_type": "markdown",
   "id": "9ae64f08",
   "metadata": {},
   "source": [
    "```javascript\n",
    "import { StatusBar } from \"expo-status-bar\";\n",
    "import { View, StyleSheet, Text } from \"react-native\";\n",
    "\n",
    "export default function App() {\n",
    "  return (\n",
    "    <View style={styles.container}>\n",
    "      <View style={styles.city}>\n",
    "        <Text style={styles.cityName}>Seoul</Text>\n",
    "      </View>\n",
    "      <View style={styles.weather}>\n",
    "        <View style={styles.day}>\n",
    "          <Text style={styles.temp}>27</Text>\n",
    "          <Text style={styles.description}>Sunny</Text>\n",
    "        </View>\n",
    "      </View>\n",
    "      <StatusBar style=\"auto\"></StatusBar>\n",
    "    </View>\n",
    "  );\n",
    "}\n",
    "\n",
    "const styles = StyleSheet.create({\n",
    "  container: {\n",
    "    flex: 1,\n",
    "    backgroundColor: \"gray\",\n",
    "  },\n",
    "  city: {\n",
    "    flex: 1,\n",
    "    justifyContent: \"center\",\n",
    "    alignItems: \"center\",\n",
    "  },\n",
    "  cityName: {\n",
    "    fontSize: 60,\n",
    "    fontWeight: \"500\",\n",
    "  },\n",
    "  weather: {\n",
    "    flex: 3,\n",
    "  },\n",
    "  day: {\n",
    "    flex: 1,\n",
    "    alignItems: \"center\",\n",
    "  },\n",
    "  temp: {\n",
    "    marginTop: 50,\n",
    "    fontSize: 158,\n",
    "  },\n",
    "\n",
    "  description: {\n",
    "    marginTop: -30,\n",
    "    fontSize: 60,\n",
    "  },\n",
    "});\n",
    "\n",
    "```"
   ]
  },
  {
   "cell_type": "markdown",
   "id": "a7c3000a",
   "metadata": {},
   "source": [
    "# use ScrollView\n",
    "\n",
    "https://reactnative.dev/docs/scrollview"
   ]
  },
  {
   "cell_type": "markdown",
   "id": "a00c87c8",
   "metadata": {},
   "source": [
    "props\n",
    "https://reactnative.dev/docs/scrollview#pagingenabled\n",
    "\n",
    "https://reactnative.dev/docs/scrollview#showshorizontalscrollindicator"
   ]
  },
  {
   "cell_type": "markdown",
   "id": "3c0d42e2",
   "metadata": {},
   "source": [
    "# API 휴대폰 사이즈  \n",
    "https://reactnative.dev/docs/dimensions"
   ]
  }
 ],
 "metadata": {
  "kernelspec": {
   "display_name": "Python 3 (ipykernel)",
   "language": "python",
   "name": "python3"
  },
  "language_info": {
   "codemirror_mode": {
    "name": "ipython",
    "version": 3
   },
   "file_extension": ".py",
   "mimetype": "text/x-python",
   "name": "python",
   "nbconvert_exporter": "python",
   "pygments_lexer": "ipython3",
   "version": "3.9.13"
  }
 },
 "nbformat": 4,
 "nbformat_minor": 5
}

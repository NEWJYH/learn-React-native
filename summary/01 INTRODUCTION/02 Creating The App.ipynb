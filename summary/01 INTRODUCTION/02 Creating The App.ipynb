{
 "cells": [
  {
   "cell_type": "markdown",
   "id": "2f54eb17",
   "metadata": {},
   "source": [
    "# 01 Creating The App 명령어\n",
    "\n",
    "```shell\n",
    "\n",
    "expo init appname\n",
    "```"
   ]
  },
  {
   "cell_type": "markdown",
   "id": "4d21d5f3",
   "metadata": {},
   "source": [
    "# 02 Expo Login\n",
    "\n",
    "```shell\n",
    "expo login\n",
    "\n",
    "```"
   ]
  },
  {
   "cell_type": "markdown",
   "id": "409a5f65",
   "metadata": {},
   "source": [
    "# 03 start\n",
    "```shell\n",
    "\n",
    "yarn start\n",
    "```"
   ]
  }
 ],
 "metadata": {
  "kernelspec": {
   "display_name": "Python 3 (ipykernel)",
   "language": "python",
   "name": "python3"
  },
  "language_info": {
   "codemirror_mode": {
    "name": "ipython",
    "version": 3
   },
   "file_extension": ".py",
   "mimetype": "text/x-python",
   "name": "python",
   "nbconvert_exporter": "python",
   "pygments_lexer": "ipython3",
   "version": "3.9.13"
  }
 },
 "nbformat": 4,
 "nbformat_minor": 5
}
